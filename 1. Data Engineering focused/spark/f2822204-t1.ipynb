{
 "cells": [
  {
   "cell_type": "code",
   "execution_count": 1,
   "id": "205303cb",
   "metadata": {},
   "outputs": [],
   "source": [
    "# import necesary packages:\n",
    "import pyspark\n",
    "from pyspark.sql import SparkSession\n",
    "from pyspark.sql.functions import col\n",
    "from pyspark.sql.functions import array_contains\n",
    "from pyspark.sql.functions import countDistinct\n",
    "from pyspark.sql.functions import count\n",
    "\n"
   ]
  },
  {
   "cell_type": "code",
   "execution_count": 2,
   "id": "dcd7285a",
   "metadata": {},
   "outputs": [
    {
     "data": {
      "text/html": [
       "\n",
       "            <div>\n",
       "                <p><b>SparkSession - in-memory</b></p>\n",
       "                \n",
       "        <div>\n",
       "            <p><b>SparkContext</b></p>\n",
       "\n",
       "            <p><a href=\"http://ChrisVL:4043\">Spark UI</a></p>\n",
       "\n",
       "            <dl>\n",
       "              <dt>Version</dt>\n",
       "                <dd><code>v3.3.2</code></dd>\n",
       "              <dt>Master</dt>\n",
       "                <dd><code>local[*]</code></dd>\n",
       "              <dt>AppName</dt>\n",
       "                <dd><code>Jupyter Notebook</code></dd>\n",
       "            </dl>\n",
       "        </div>\n",
       "        \n",
       "            </div>\n",
       "        "
      ],
      "text/plain": [
       "<pyspark.sql.session.SparkSession at 0x209f75c0af0>"
      ]
     },
     "execution_count": 2,
     "metadata": {},
     "output_type": "execute_result"
    }
   ],
   "source": [
    "# We create a spark Session\n",
    "spark = SparkSession.builder.appName(\"Jupyter Notebook\").getOrCreate()\n",
    "\n",
    "spark"
   ]
  },
  {
   "cell_type": "code",
   "execution_count": 3,
   "id": "0cb10824",
   "metadata": {},
   "outputs": [],
   "source": [
    "# We load the data:\n",
    "data = spark.read.json(\"movie.json\")"
   ]
  },
  {
   "cell_type": "code",
   "execution_count": 4,
   "id": "467e58d8",
   "metadata": {},
   "outputs": [
    {
     "name": "stdout",
     "output_type": "stream",
     "text": [
      "+---------+\n",
      "|    title|\n",
      "+---------+\n",
      "|Vengeance|\n",
      "|Vengeance|\n",
      "|Vengeance|\n",
      "|Vengeance|\n",
      "|Vengeance|\n",
      "|Vengeance|\n",
      "|Vengeance|\n",
      "|Vengeance|\n",
      "|Vengeance|\n",
      "+---------+\n",
      "\n"
     ]
    }
   ],
   "source": [
    "# as we can see, each row does not represent a signle movie. So we will have to take this into account!\n",
    "filtered_df = data.select('title').filter(data[\"title\"] == 'Vengeance')\n",
    "filtered_df.show()"
   ]
  },
  {
   "cell_type": "code",
   "execution_count": 5,
   "id": "b283e82e",
   "metadata": {
    "scrolled": true
   },
   "outputs": [
    {
     "name": "stdout",
     "output_type": "stream",
     "text": [
      "+------------+\n",
      "|count(title)|\n",
      "+------------+\n",
      "|       56769|\n",
      "+------------+\n",
      "\n"
     ]
    }
   ],
   "source": [
    "# We have 56769 unique movies in our data set.\n",
    "distinct_count = data.agg(countDistinct(\"title\"))\n",
    "distinct_count.show()"
   ]
  },
  {
   "cell_type": "code",
   "execution_count": 6,
   "id": "9b178eaf",
   "metadata": {},
   "outputs": [
    {
     "name": "stdout",
     "output_type": "stream",
     "text": [
      "+-------------------+\n",
      "|count(title, genre)|\n",
      "+-------------------+\n",
      "|              19213|\n",
      "+-------------------+\n",
      "\n"
     ]
    }
   ],
   "source": [
    "# As we said before we have more than one time the same movie in the dataset.\n",
    "# So, we first keep only the genre and title and then we count distinct\n",
    "filtered_data = data.select(\"genre\",'title').filter(array_contains(data[\"genre\"], \"Comedy\"))\n",
    "filtered_data.agg(countDistinct(\"title\",'genre')).show()\n",
    "\n",
    "# We have 19,213 movies that are Comedy type\n",
    "# These movies can also be of another type\n",
    "# For example we counted also movies that are Comedy, Romance.\n"
   ]
  },
  {
   "cell_type": "code",
   "execution_count": 7,
   "id": "8e46b036",
   "metadata": {},
   "outputs": [
    {
     "name": "stdout",
     "output_type": "stream",
     "text": [
      "+-------+-----------------+\n",
      "|summary|     users_rating|\n",
      "+-------+-----------------+\n",
      "|  count|            62056|\n",
      "|   mean|5.814105001933739|\n",
      "| stddev|1.352186410172222|\n",
      "|    min|              1.0|\n",
      "|    25%|              5.0|\n",
      "|    50%|              6.0|\n",
      "|    75%|              6.7|\n",
      "|    max|              9.9|\n",
      "+-------+-----------------+\n",
      "\n"
     ]
    }
   ],
   "source": [
    "# We find the statistics for the users_rating column:\n",
    "statistics = data.select(\"users_rating\").summary()\n",
    "\n",
    "# We find the following:\n",
    "# we have 62,056 user ratings, as many as the total number of movies in our data base\n",
    "# The mean is 6, with a standar deviation of 1.3\n",
    "# the min rating of a movie is 1 and the max rating of a movie is 9.9\n",
    "# We also find informations about the quantiles\n",
    "statistics.show()"
   ]
  },
  {
   "cell_type": "code",
   "execution_count": 8,
   "id": "157d03f3",
   "metadata": {},
   "outputs": [
    {
     "name": "stdout",
     "output_type": "stream",
     "text": [
      "+---------+-----+\n",
      "|   rating|count|\n",
      "+---------+-----+\n",
      "|Not Rated| 8080|\n",
      "|       UA|    7|\n",
      "|  Unrated| 1295|\n",
      "|     TV-Y|   16|\n",
      "| Approved| 6419|\n",
      "|   Passed| 4488|\n",
      "|     M/PG|   27|\n",
      "|     null|20669|\n",
      "|       PG| 3286|\n",
      "|    TV-MA|  639|\n",
      "|       18|    1|\n",
      "|        M|   41|\n",
      "|    TV-PG|  268|\n",
      "|        C|    3|\n",
      "|    NC-17|   22|\n",
      "|        X|  152|\n",
      "|        R|11368|\n",
      "|        G|  801|\n",
      "|    TV-14|  452|\n",
      "|       GP|  105|\n",
      "+---------+-----+\n",
      "only showing top 20 rows\n",
      "\n"
     ]
    }
   ],
   "source": [
    "# We group by the rating column and count the number of occurances for each rating type:\n",
    "grouped_data = data.groupBy(\"rating\").count()\n",
    "\n",
    "# We print the results:\n",
    "grouped_data.show()"
   ]
  },
  {
   "cell_type": "code",
   "execution_count": null,
   "id": "a0f62eeb",
   "metadata": {},
   "outputs": [],
   "source": []
  }
 ],
 "metadata": {
  "kernelspec": {
   "display_name": "Python 3 (ipykernel)",
   "language": "python",
   "name": "python3"
  },
  "language_info": {
   "codemirror_mode": {
    "name": "ipython",
    "version": 3
   },
   "file_extension": ".py",
   "mimetype": "text/x-python",
   "name": "python",
   "nbconvert_exporter": "python",
   "pygments_lexer": "ipython3",
   "version": "3.9.13"
  }
 },
 "nbformat": 4,
 "nbformat_minor": 5
}
