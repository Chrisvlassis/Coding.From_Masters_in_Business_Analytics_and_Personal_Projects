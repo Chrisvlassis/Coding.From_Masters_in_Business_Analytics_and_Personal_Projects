{
 "cells": [
  {
   "cell_type": "code",
   "execution_count": null,
   "id": "1a4dfd1a",
   "metadata": {},
   "outputs": [],
   "source": [
    "from airflow import DAG\n",
    "from airflow.operators.bash_operator import BashOperator\n",
    "import datetime as dt"
   ]
  },
  {
   "cell_type": "code",
   "execution_count": null,
   "id": "5433fba8",
   "metadata": {},
   "outputs": [],
   "source": [
    "default_arg = {\n",
    "    'owner': 'Christos',\n",
    "    'start_date': dt.datetime(2022,7,7),\n",
    "    'retries': 1,\n",
    "    'retry_delay': dt.timedelta(minutes=5)\n",
    "}"
   ]
  },
  {
   "cell_type": "code",
   "execution_count": null,
   "id": "a95b7d37",
   "metadata": {},
   "outputs": [],
   "source": [
    "dag = DAG('assigment',\n",
    "         description = 'my_name',\n",
    "         default_args=default_args,\n",
    "         schedule_interval=dt.timedelta(seconds=5))"
   ]
  },
  {
   "cell_type": "code",
   "execution_count": null,
   "id": "f854b48e",
   "metadata": {},
   "outputs": [],
   "source": [
    "display_name = BashOperator(\n",
    "task_id = 'name',\n",
    "bash_command = 'echo Vlassis',\n",
    "dag=dag)\n",
    "\n",
    "count_characters = BashOperator(\n",
    "task_id = 'count',\n",
    "bash_command = 'expr length Vlassis',\n",
    "dag=dag)"
   ]
  },
  {
   "cell_type": "code",
   "execution_count": null,
   "id": "2d60646e",
   "metadata": {},
   "outputs": [],
   "source": [
    "display_name >> count_characters"
   ]
  }
 ],
 "metadata": {
  "kernelspec": {
   "display_name": "Python 3 (ipykernel)",
   "language": "python",
   "name": "python3"
  },
  "language_info": {
   "codemirror_mode": {
    "name": "ipython",
    "version": 3
   },
   "file_extension": ".py",
   "mimetype": "text/x-python",
   "name": "python",
   "nbconvert_exporter": "python",
   "pygments_lexer": "ipython3",
   "version": "3.9.13"
  }
 },
 "nbformat": 4,
 "nbformat_minor": 5
}
