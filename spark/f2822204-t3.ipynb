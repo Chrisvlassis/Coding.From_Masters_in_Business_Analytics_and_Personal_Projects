{
 "cells": [
  {
   "cell_type": "code",
   "execution_count": 1,
   "id": "3f286bc2",
   "metadata": {},
   "outputs": [],
   "source": [
    "import pyspark\n",
    "from pyspark.sql import SparkSession"
   ]
  },
  {
   "cell_type": "code",
   "execution_count": 2,
   "id": "76be3e2d",
   "metadata": {},
   "outputs": [
    {
     "data": {
      "text/html": [
       "\n",
       "            <div>\n",
       "                <p><b>SparkSession - in-memory</b></p>\n",
       "                \n",
       "        <div>\n",
       "            <p><b>SparkContext</b></p>\n",
       "\n",
       "            <p><a href=\"http://ChrisVL:4040\">Spark UI</a></p>\n",
       "\n",
       "            <dl>\n",
       "              <dt>Version</dt>\n",
       "                <dd><code>v3.3.2</code></dd>\n",
       "              <dt>Master</dt>\n",
       "                <dd><code>local[*]</code></dd>\n",
       "              <dt>AppName</dt>\n",
       "                <dd><code>Jupyter Notebook</code></dd>\n",
       "            </dl>\n",
       "        </div>\n",
       "        \n",
       "            </div>\n",
       "        "
      ],
      "text/plain": [
       "<pyspark.sql.session.SparkSession at 0x22d1de5e9d0>"
      ]
     },
     "execution_count": 2,
     "metadata": {},
     "output_type": "execute_result"
    }
   ],
   "source": [
    "# We create a spark Session\n",
    "spark = SparkSession.builder.appName(\"Jupyter Notebook\").getOrCreate()\n",
    "\n",
    "spark"
   ]
  },
  {
   "cell_type": "code",
   "execution_count": 3,
   "id": "39f6c80e",
   "metadata": {},
   "outputs": [],
   "source": [
    "# import the data \n",
    "data = spark.read.json(\"movie.json\")"
   ]
  },
  {
   "cell_type": "code",
   "execution_count": 4,
   "id": "d04ddda3",
   "metadata": {},
   "outputs": [
    {
     "name": "stdout",
     "output_type": "stream",
     "text": [
      "+------------+---------+-------+------------------+-----------------+\n",
      "|users_rating|metascore|runtime|             genre|        languages|\n",
      "+------------+---------+-------+------------------+-----------------+\n",
      "|        null|     null|   null|              null|             null|\n",
      "|         6.6|       44| 92 min| [Comedy, Romance]|        [English]|\n",
      "|         2.4|     null| 91 min|[Horror, Thriller]|        [English]|\n",
      "|         7.8|       61|103 min|          [Comedy]|[English, German]|\n",
      "|         7.3|       73|128 min| [Crime, Thriller]|        [English]|\n",
      "+------------+---------+-------+------------------+-----------------+\n",
      "only showing top 5 rows\n",
      "\n"
     ]
    }
   ],
   "source": [
    "# We first keep only the relevant columns:\n",
    "LR_data = data.select('users_rating','metascore','runtime','genre','languages')\n",
    "LR_data.show(5)"
   ]
  },
  {
   "cell_type": "code",
   "execution_count": 5,
   "id": "d53b650c",
   "metadata": {},
   "outputs": [],
   "source": [
    "from pyspark.sql.functions import expr\n",
    "from pyspark.sql.functions import col\n",
    "from pyspark.sql.types import FloatType\n",
    "from pyspark.sql.types import IntegerType\n",
    "\n",
    "# remove min from runtime\n",
    "LR_data = LR_data.withColumn(\"runtime\", expr(\"replace(runtime, ' min', '')\"))\n",
    "\n",
    "# keep first element of genre:\n",
    "LR_data = LR_data.withColumn(\"genre\", col(\"genre\")[0])\n",
    "\n",
    "# keep first element of languages:\n",
    "LR_data = LR_data.withColumn(\"languages\", col(\"languages\")[0])"
   ]
  },
  {
   "cell_type": "code",
   "execution_count": 6,
   "id": "9573b07a",
   "metadata": {},
   "outputs": [],
   "source": [
    "# change data types:\n",
    "LR_data = LR_data.withColumn(\"users_rating\", col(\"users_rating\").cast(\"double\"))\n",
    "LR_data = LR_data.withColumn(\"metascore\", col(\"metascore\").cast(\"double\"))\n",
    "LR_data = LR_data.withColumn(\"runtime\", col(\"runtime\").cast(\"integer\"))"
   ]
  },
  {
   "cell_type": "code",
   "execution_count": 7,
   "id": "27d398ee",
   "metadata": {},
   "outputs": [
    {
     "name": "stdout",
     "output_type": "stream",
     "text": [
      "+------------+---------+-------+---------+---------+\n",
      "|users_rating|metascore|runtime|    genre|languages|\n",
      "+------------+---------+-------+---------+---------+\n",
      "|        null|     null|   null|     null|     null|\n",
      "|         6.6|     44.0|     92|   Comedy|  English|\n",
      "|         2.4|     null|     91|   Horror|  English|\n",
      "|         7.8|     61.0|    103|   Comedy|  English|\n",
      "|         7.3|     73.0|    128|    Crime|  English|\n",
      "|         7.0|     66.0|     97|   Comedy|  English|\n",
      "|         5.3|     64.0|     87|  Fantasy|  English|\n",
      "|         6.2|     51.0|    128|   Action|  English|\n",
      "|         8.0|     69.0|    143|   Action|  English|\n",
      "|         8.3|     70.0|    126|    Drama|  English|\n",
      "|         8.3|     84.0|    149|Adventure|  English|\n",
      "|         8.3|     65.0|    170|    Crime|  English|\n",
      "|         7.6|     78.0|    102|   Comedy|  English|\n",
      "|         5.3|     45.0|     90|    Drama|  English|\n",
      "|         8.3|     76.0|    116|    Drama|  English|\n",
      "|         7.4|     63.0|    161|Adventure|  English|\n",
      "|         8.1|     72.0|    116|    Drama|  English|\n",
      "|         8.2|     88.0|    115|   Comedy|  English|\n",
      "|         7.8|     73.0|    143|Adventure|  English|\n",
      "|         7.5|     68.0|    140|   Action|  English|\n",
      "+------------+---------+-------+---------+---------+\n",
      "only showing top 20 rows\n",
      "\n"
     ]
    }
   ],
   "source": [
    "LR_data.show()"
   ]
  },
  {
   "cell_type": "code",
   "execution_count": 8,
   "id": "809ee874",
   "metadata": {
    "scrolled": true
   },
   "outputs": [
    {
     "data": {
      "text/plain": [
       "12169"
      ]
     },
     "execution_count": 8,
     "metadata": {},
     "output_type": "execute_result"
    }
   ],
   "source": [
    "# we have NULL values for all columns. \n",
    "LR_data.filter(col(\"runtime\").isNull()).count()"
   ]
  },
  {
   "cell_type": "code",
   "execution_count": 9,
   "id": "5e0f0916",
   "metadata": {},
   "outputs": [],
   "source": [
    "# we remove rows that cotntain null values in the genre and language columns: \n",
    "LR_data = LR_data.filter(col(\"genre\").isNotNull())\n",
    "LR_data = LR_data.filter(col(\"languages\").isNotNull())"
   ]
  },
  {
   "cell_type": "code",
   "execution_count": 10,
   "id": "5f65316b",
   "metadata": {},
   "outputs": [],
   "source": [
    "# because we dont want to losse a lot information we will make imputations for the three continious variables: \n",
    "from pyspark.ml.feature import Imputer\n",
    "\n",
    "# We will use the median for the imputation \n",
    "imputer = Imputer(inputCols=[\"users_rating\",\"runtime\", \"metascore\"], outputCols=[\"imputed_users_rating\", \"imputed_runtime\", \"imputed_metascore\"]).setStrategy(\"median\")\n",
    "movie_dataset = imputer.fit(LR_data).transform(LR_data)"
   ]
  },
  {
   "cell_type": "code",
   "execution_count": 11,
   "id": "64da3060",
   "metadata": {},
   "outputs": [
    {
     "name": "stdout",
     "output_type": "stream",
     "text": [
      "+------------+---------+-------+---------+---------+--------------------+---------------+-----------------+\n",
      "|users_rating|metascore|runtime|    genre|languages|imputed_users_rating|imputed_runtime|imputed_metascore|\n",
      "+------------+---------+-------+---------+---------+--------------------+---------------+-----------------+\n",
      "|         6.6|     44.0|     92|   Comedy|  English|                 6.6|             92|             44.0|\n",
      "|         2.4|     null|     91|   Horror|  English|                 2.4|             91|             53.0|\n",
      "|         7.8|     61.0|    103|   Comedy|  English|                 7.8|            103|             61.0|\n",
      "|         7.3|     73.0|    128|    Crime|  English|                 7.3|            128|             73.0|\n",
      "|         7.0|     66.0|     97|   Comedy|  English|                 7.0|             97|             66.0|\n",
      "|         5.3|     64.0|     87|  Fantasy|  English|                 5.3|             87|             64.0|\n",
      "|         6.2|     51.0|    128|   Action|  English|                 6.2|            128|             51.0|\n",
      "|         8.0|     69.0|    143|   Action|  English|                 8.0|            143|             69.0|\n",
      "|         8.3|     70.0|    126|    Drama|  English|                 8.3|            126|             70.0|\n",
      "|         8.3|     84.0|    149|Adventure|  English|                 8.3|            149|             84.0|\n",
      "|         8.3|     65.0|    170|    Crime|  English|                 8.3|            170|             65.0|\n",
      "|         7.6|     78.0|    102|   Comedy|  English|                 7.6|            102|             78.0|\n",
      "|         5.3|     45.0|     90|    Drama|  English|                 5.3|             90|             45.0|\n",
      "|         8.3|     76.0|    116|    Drama|  English|                 8.3|            116|             76.0|\n",
      "|         7.4|     63.0|    161|Adventure|  English|                 7.4|            161|             63.0|\n",
      "|         8.1|     72.0|    116|    Drama|  English|                 8.1|            116|             72.0|\n",
      "|         8.2|     88.0|    115|   Comedy|  English|                 8.2|            115|             88.0|\n",
      "|         7.8|     73.0|    143|Adventure|  English|                 7.8|            143|             73.0|\n",
      "|         7.5|     68.0|    140|   Action|  English|                 7.5|            140|             68.0|\n",
      "|         6.6|     51.0|    124|    Drama|  English|                 6.6|            124|             51.0|\n",
      "+------------+---------+-------+---------+---------+--------------------+---------------+-----------------+\n",
      "only showing top 20 rows\n",
      "\n"
     ]
    }
   ],
   "source": [
    "movie_dataset.show()"
   ]
  },
  {
   "cell_type": "code",
   "execution_count": 12,
   "id": "4f00a2af",
   "metadata": {},
   "outputs": [],
   "source": [
    "# lets keep only the columns that we need: \n",
    "movie_dataset = movie_dataset.select('imputed_users_rating','imputed_runtime','imputed_metascore','genre','languages')"
   ]
  },
  {
   "cell_type": "code",
   "execution_count": 13,
   "id": "ce20bb5a",
   "metadata": {},
   "outputs": [
    {
     "name": "stdout",
     "output_type": "stream",
     "text": [
      "+--------------------+---------------+-----------------+---------+---------+\n",
      "|imputed_users_rating|imputed_runtime|imputed_metascore|    genre|languages|\n",
      "+--------------------+---------------+-----------------+---------+---------+\n",
      "|                 6.6|             92|             44.0|   Comedy|  English|\n",
      "|                 2.4|             91|             53.0|   Horror|  English|\n",
      "|                 7.8|            103|             61.0|   Comedy|  English|\n",
      "|                 7.3|            128|             73.0|    Crime|  English|\n",
      "|                 7.0|             97|             66.0|   Comedy|  English|\n",
      "|                 5.3|             87|             64.0|  Fantasy|  English|\n",
      "|                 6.2|            128|             51.0|   Action|  English|\n",
      "|                 8.0|            143|             69.0|   Action|  English|\n",
      "|                 8.3|            126|             70.0|    Drama|  English|\n",
      "|                 8.3|            149|             84.0|Adventure|  English|\n",
      "|                 8.3|            170|             65.0|    Crime|  English|\n",
      "|                 7.6|            102|             78.0|   Comedy|  English|\n",
      "|                 5.3|             90|             45.0|    Drama|  English|\n",
      "|                 8.3|            116|             76.0|    Drama|  English|\n",
      "|                 7.4|            161|             63.0|Adventure|  English|\n",
      "|                 8.1|            116|             72.0|    Drama|  English|\n",
      "|                 8.2|            115|             88.0|   Comedy|  English|\n",
      "|                 7.8|            143|             73.0|Adventure|  English|\n",
      "|                 7.5|            140|             68.0|   Action|  English|\n",
      "|                 6.6|            124|             51.0|    Drama|  English|\n",
      "+--------------------+---------------+-----------------+---------+---------+\n",
      "only showing top 20 rows\n",
      "\n"
     ]
    }
   ],
   "source": [
    "movie_dataset.show()"
   ]
  },
  {
   "cell_type": "code",
   "execution_count": 14,
   "id": "5165f6ef",
   "metadata": {},
   "outputs": [],
   "source": [
    "from pyspark.ml.feature import VectorAssembler, StringIndexer, OneHotEncoder\n",
    "from pyspark.ml import Pipeline\n",
    "\n",
    "# Stri indexer and encoder: \n",
    "stringIndexer = StringIndexer(handleInvalid=\"keep\", inputCols=[\"genre\", \"languages\"], \n",
    "                              outputCols=[i + \"Index\" for i in [\"genre\", \"languages\"]])\n",
    "encoder = OneHotEncoder(inputCols=stringIndexer.getOutputCols(), \n",
    "                        outputCols=[i + \"_One_Hot_Encoder\" for i in [\"genre\", \"languages\"]])\n"
   ]
  },
  {
   "cell_type": "code",
   "execution_count": 15,
   "id": "e62cd734",
   "metadata": {},
   "outputs": [],
   "source": [
    "# vector assembler:\n",
    "assemblerInput = [ai + \"_One_Hot_Encoder\" for ai in [\"genre\", \"languages\"]] + ['imputed_runtime','imputed_metascore']\n",
    "vecAss = VectorAssembler(inputCols=assemblerInput, outputCol=\"features\")"
   ]
  },
  {
   "cell_type": "code",
   "execution_count": 16,
   "id": "7a019db2",
   "metadata": {},
   "outputs": [
    {
     "data": {
      "text/plain": [
       "['genre_One_Hot_Encoder',\n",
       " 'languages_One_Hot_Encoder',\n",
       " 'imputed_runtime',\n",
       " 'imputed_metascore']"
      ]
     },
     "execution_count": 16,
     "metadata": {},
     "output_type": "execute_result"
    }
   ],
   "source": [
    "assemblerInput"
   ]
  },
  {
   "cell_type": "code",
   "execution_count": 17,
   "id": "50470bd8",
   "metadata": {},
   "outputs": [],
   "source": [
    "from pyspark.ml.regression import LinearRegression\n",
    "\n",
    "lr = LinearRegression(featuresCol=\"features\", labelCol=\"imputed_users_rating\")"
   ]
  },
  {
   "cell_type": "code",
   "execution_count": 18,
   "id": "6725abf5",
   "metadata": {},
   "outputs": [],
   "source": [
    "# our data are almsost ready for the linear regression, lets split them:\n",
    "train_data, test_data = movie_dataset.randomSplit([0.8, 0.2], seed=100)"
   ]
  },
  {
   "cell_type": "code",
   "execution_count": 19,
   "id": "0b24e257",
   "metadata": {},
   "outputs": [
    {
     "data": {
      "text/plain": [
       "48579"
      ]
     },
     "execution_count": 19,
     "metadata": {},
     "output_type": "execute_result"
    }
   ],
   "source": [
    "# 48579 observation for training the model\n",
    "train_data.count()"
   ]
  },
  {
   "cell_type": "code",
   "execution_count": 20,
   "id": "2c43fd74",
   "metadata": {},
   "outputs": [
    {
     "data": {
      "text/plain": [
       "12227"
      ]
     },
     "execution_count": 20,
     "metadata": {},
     "output_type": "execute_result"
    }
   ],
   "source": [
    "# 12227 observations for testing the model\n",
    "test_data.count()"
   ]
  },
  {
   "cell_type": "code",
   "execution_count": 21,
   "id": "78490eb8",
   "metadata": {},
   "outputs": [],
   "source": [
    "from pyspark.ml import Pipeline\n",
    "\n",
    "# lets run the model and test it! \n",
    "\n",
    "# creating a pipeline to run everything \n",
    "pipeline = Pipeline(stages=[stringIndexer, encoder, vecAss, lr])\n",
    "\n",
    "# run the pipeline \n",
    "Model = pipeline.fit(train_data)\n",
    "\n",
    "# lets apply the model to the test data \n",
    "DF_PREDICTIONS = Model.transform(test_data)"
   ]
  },
  {
   "cell_type": "code",
   "execution_count": 22,
   "id": "687133f1",
   "metadata": {},
   "outputs": [
    {
     "data": {
      "text/plain": [
       "0.1503208001214773"
      ]
     },
     "execution_count": 22,
     "metadata": {},
     "output_type": "execute_result"
    }
   ],
   "source": [
    "from pyspark.ml.evaluation import RegressionEvaluator\n",
    "\n",
    "regEvaluator = RegressionEvaluator(labelCol=\"imputed_users_rating\", predictionCol=\"prediction\", metricName=\"r2\")\n",
    "\n",
    "r2 = regEvaluator.evaluate(DF_PREDICTIONS)\n",
    "# R2 is 15% for the test data\n",
    "r2"
   ]
  },
  {
   "cell_type": "code",
   "execution_count": null,
   "id": "d042644f",
   "metadata": {},
   "outputs": [],
   "source": []
  },
  {
   "cell_type": "code",
   "execution_count": null,
   "id": "68909b35",
   "metadata": {},
   "outputs": [],
   "source": []
  },
  {
   "cell_type": "code",
   "execution_count": null,
   "id": "4976fbaa",
   "metadata": {},
   "outputs": [],
   "source": []
  },
  {
   "cell_type": "code",
   "execution_count": null,
   "id": "87ef05c7",
   "metadata": {},
   "outputs": [],
   "source": []
  },
  {
   "cell_type": "code",
   "execution_count": null,
   "id": "256639d1",
   "metadata": {},
   "outputs": [],
   "source": []
  },
  {
   "cell_type": "code",
   "execution_count": null,
   "id": "bd2820d3",
   "metadata": {},
   "outputs": [],
   "source": []
  },
  {
   "cell_type": "code",
   "execution_count": null,
   "id": "d6b01b84",
   "metadata": {},
   "outputs": [],
   "source": []
  },
  {
   "cell_type": "code",
   "execution_count": null,
   "id": "be1bcc44",
   "metadata": {},
   "outputs": [],
   "source": []
  },
  {
   "cell_type": "code",
   "execution_count": null,
   "id": "67ec6dac",
   "metadata": {},
   "outputs": [],
   "source": []
  },
  {
   "cell_type": "code",
   "execution_count": null,
   "id": "0c4f62c5",
   "metadata": {},
   "outputs": [],
   "source": []
  },
  {
   "cell_type": "code",
   "execution_count": null,
   "id": "0175dcc5",
   "metadata": {},
   "outputs": [],
   "source": []
  },
  {
   "cell_type": "code",
   "execution_count": null,
   "id": "d07bede1",
   "metadata": {},
   "outputs": [],
   "source": []
  },
  {
   "cell_type": "code",
   "execution_count": null,
   "id": "3bad8220",
   "metadata": {},
   "outputs": [],
   "source": []
  },
  {
   "cell_type": "code",
   "execution_count": null,
   "id": "de1a1842",
   "metadata": {},
   "outputs": [],
   "source": []
  },
  {
   "cell_type": "code",
   "execution_count": null,
   "id": "82399acd",
   "metadata": {},
   "outputs": [],
   "source": []
  },
  {
   "cell_type": "code",
   "execution_count": null,
   "id": "69b09497",
   "metadata": {},
   "outputs": [],
   "source": []
  },
  {
   "cell_type": "code",
   "execution_count": null,
   "id": "a931bc1a",
   "metadata": {},
   "outputs": [],
   "source": []
  },
  {
   "cell_type": "code",
   "execution_count": null,
   "id": "9665f24a",
   "metadata": {},
   "outputs": [],
   "source": []
  },
  {
   "cell_type": "code",
   "execution_count": null,
   "id": "6766731a",
   "metadata": {},
   "outputs": [],
   "source": []
  },
  {
   "cell_type": "code",
   "execution_count": null,
   "id": "02ac8a31",
   "metadata": {},
   "outputs": [],
   "source": []
  },
  {
   "cell_type": "code",
   "execution_count": null,
   "id": "58fdd972",
   "metadata": {},
   "outputs": [],
   "source": []
  },
  {
   "cell_type": "code",
   "execution_count": null,
   "id": "82852af2",
   "metadata": {},
   "outputs": [],
   "source": []
  },
  {
   "cell_type": "code",
   "execution_count": null,
   "id": "81f9b5d4",
   "metadata": {},
   "outputs": [],
   "source": []
  },
  {
   "cell_type": "code",
   "execution_count": null,
   "id": "291decf9",
   "metadata": {},
   "outputs": [],
   "source": []
  },
  {
   "cell_type": "code",
   "execution_count": null,
   "id": "047723ab",
   "metadata": {},
   "outputs": [],
   "source": []
  },
  {
   "cell_type": "code",
   "execution_count": null,
   "id": "06a90d09",
   "metadata": {},
   "outputs": [],
   "source": []
  }
 ],
 "metadata": {
  "kernelspec": {
   "display_name": "Python 3 (ipykernel)",
   "language": "python",
   "name": "python3"
  },
  "language_info": {
   "codemirror_mode": {
    "name": "ipython",
    "version": 3
   },
   "file_extension": ".py",
   "mimetype": "text/x-python",
   "name": "python",
   "nbconvert_exporter": "python",
   "pygments_lexer": "ipython3",
   "version": "3.9.13"
  }
 },
 "nbformat": 4,
 "nbformat_minor": 5
}
