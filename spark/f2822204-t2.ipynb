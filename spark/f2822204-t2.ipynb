{
 "cells": [
  {
   "cell_type": "code",
   "execution_count": 32,
   "id": "3456983c",
   "metadata": {},
   "outputs": [],
   "source": [
    "# import necesary packages:\n",
    "import pyspark\n",
    "from pyspark.sql import SparkSession\n",
    "from pyspark.sql.functions import col\n",
    "from pyspark.sql.functions import array_contains\n",
    "from pyspark.sql.types import DoubleType\n",
    "\n"
   ]
  },
  {
   "cell_type": "code",
   "execution_count": 2,
   "id": "a2caddab",
   "metadata": {},
   "outputs": [
    {
     "data": {
      "text/html": [
       "\n",
       "            <div>\n",
       "                <p><b>SparkSession - in-memory</b></p>\n",
       "                \n",
       "        <div>\n",
       "            <p><b>SparkContext</b></p>\n",
       "\n",
       "            <p><a href=\"http://ChrisVL:4040\">Spark UI</a></p>\n",
       "\n",
       "            <dl>\n",
       "              <dt>Version</dt>\n",
       "                <dd><code>v3.3.2</code></dd>\n",
       "              <dt>Master</dt>\n",
       "                <dd><code>local[*]</code></dd>\n",
       "              <dt>AppName</dt>\n",
       "                <dd><code>Jupyter Notebook</code></dd>\n",
       "            </dl>\n",
       "        </div>\n",
       "        \n",
       "            </div>\n",
       "        "
      ],
      "text/plain": [
       "<pyspark.sql.session.SparkSession at 0x1da082628b0>"
      ]
     },
     "execution_count": 2,
     "metadata": {},
     "output_type": "execute_result"
    }
   ],
   "source": [
    "# We create a spark Session\n",
    "spark = SparkSession.builder.appName(\"Jupyter Notebook\").getOrCreate()\n",
    "\n",
    "spark"
   ]
  },
  {
   "cell_type": "code",
   "execution_count": 4,
   "id": "11cd1b57",
   "metadata": {},
   "outputs": [],
   "source": [
    "# We load the data:\n",
    "data = spark.read.json(\"movie.json\")"
   ]
  },
  {
   "cell_type": "code",
   "execution_count": 6,
   "id": "827d0ce1",
   "metadata": {},
   "outputs": [
    {
     "name": "stdout",
     "output_type": "stream",
     "text": [
      "+---------------+------+---------+-----------+---------+-----+--------+-------+---------+---------+------+-------+-------+-----+------------+-----+----+\n",
      "|_corrupt_record|actors|countries|description|directors|genre|imdb_url|img_url|languages|metascore|rating|runtime|tagline|title|users_rating|votes|year|\n",
      "+---------------+------+---------+-----------+---------+-----+--------+-------+---------+---------+------+-------+-------+-----+------------+-----+----+\n",
      "|              [|  null|     null|       null|     null| null|    null|   null|     null|     null|  null|   null|   null| null|        null| null|null|\n",
      "+---------------+------+---------+-----------+---------+-----+--------+-------+---------+---------+------+-------+-------+-----+------------+-----+----+\n",
      "only showing top 1 row\n",
      "\n"
     ]
    }
   ],
   "source": [
    "data.show(1)"
   ]
  },
  {
   "cell_type": "code",
   "execution_count": 22,
   "id": "20646fe5",
   "metadata": {},
   "outputs": [
    {
     "data": {
      "text/plain": [
       "Row(title='Violet', year='2020', users_rating='8.8')"
      ]
     },
     "execution_count": 22,
     "metadata": {},
     "output_type": "execute_result"
    }
   ],
   "source": [
    "# First i will keep just the rows with that the title starts with 'V' :\n",
    "V_data = data.filter(col('title').startswith('V'))\n",
    "\n",
    "# Now i will sort the data frame in descending order based on the users_rating column:\n",
    "sorted_V_data = V_data.sort(col('users_rating').desc())\n",
    "\n",
    "# Finally i keep the columns that i need: title, year and the users rating and i print the first row:\n",
    "sorted_V_data.select('title', 'year','users_rating').head()"
   ]
  },
  {
   "cell_type": "code",
   "execution_count": 40,
   "id": "6519ab75",
   "metadata": {},
   "outputs": [
    {
     "name": "stdout",
     "output_type": "stream",
     "text": [
      "+--------------------+-----------------+\n",
      "|               title|avg(users_rating)|\n",
      "+--------------------+-----------------+\n",
      "|Lost in the White...|              5.5|\n",
      "|Life of an Actres...|              5.2|\n",
      "|            Lord Jim|              6.4|\n",
      "|            Love Toy|              5.7|\n",
      "|              Luster|              5.2|\n",
      "|     Limehouse Blues|              6.2|\n",
      "|         Lucky Stiff|4.949999999999999|\n",
      "|   Lady of Burlesque|              6.4|\n",
      "|     Lost Boundaries|              7.0|\n",
      "|Legend of the Whi...|              5.3|\n",
      "|       Livin' Large!|              5.0|\n",
      "| L.A. Streetfighters|              4.6|\n",
      "|    Lost & Turnt Out|              4.1|\n",
      "|    Listen Up Philip|              6.3|\n",
      "|Life Begins at Ei...|              6.1|\n",
      "|         Lie with Me|              5.7|\n",
      "|      Lenexa, 1 Mile|              5.8|\n",
      "|   Lone Wolf McQuade|              6.4|\n",
      "|     Love and Debate|              5.6|\n",
      "|     Lost in a Harem|              6.6|\n",
      "+--------------------+-----------------+\n",
      "only showing top 20 rows\n",
      "\n"
     ]
    }
   ],
   "source": [
    "# First i will keep just the rows with that the title starts with 'L' :\n",
    "l_data = data.filter(col('title').startswith('L'))\n",
    "\n",
    "# i have to change the column data type of the users rating to numeric: \n",
    "l_n_data = l_data.withColumn(\"users_rating\", data[\"users_rating\"].cast(DoubleType()))\n",
    "\n",
    "# i calculate the mean user rating for each title\n",
    "l_n_avg_data = l_n_data.groupBy('title').mean('users_rating')\n",
    "\n",
    "l_n_avg_data.show()"
   ]
  },
  {
   "cell_type": "code",
   "execution_count": 45,
   "id": "0232d930",
   "metadata": {},
   "outputs": [
    {
     "data": {
      "text/plain": [
       "Row(title='A.P.E.X.', year='1994', votes=996.0)"
      ]
     },
     "execution_count": 45,
     "metadata": {},
     "output_type": "execute_result"
    }
   ],
   "source": [
    "# First i will keep just the rows with that the title starts with 'A' :\n",
    "a_data = data.filter(col('title').startswith('A'))\n",
    "\n",
    "# i have to change the column data type of the votes to numeric: \n",
    "a_n_data = a_data.withColumn(\"votes\", data[\"votes\"].cast(DoubleType()))\n",
    "\n",
    "# Now i will sort the data frame in descending order based on the votes column:\n",
    "sorted_A_data = a_n_data.sort(col('votes').desc())\n",
    "\n",
    "sorted_A_data.select('title','year','votes').head()"
   ]
  },
  {
   "cell_type": "code",
   "execution_count": null,
   "id": "3ed6b829",
   "metadata": {},
   "outputs": [],
   "source": []
  },
  {
   "cell_type": "code",
   "execution_count": null,
   "id": "61c46285",
   "metadata": {},
   "outputs": [],
   "source": []
  },
  {
   "cell_type": "code",
   "execution_count": null,
   "id": "6f4c0dcf",
   "metadata": {},
   "outputs": [],
   "source": []
  },
  {
   "cell_type": "code",
   "execution_count": null,
   "id": "1876e169",
   "metadata": {},
   "outputs": [],
   "source": []
  },
  {
   "cell_type": "code",
   "execution_count": null,
   "id": "9017d34f",
   "metadata": {},
   "outputs": [],
   "source": []
  },
  {
   "cell_type": "code",
   "execution_count": null,
   "id": "38e3c5f7",
   "metadata": {},
   "outputs": [],
   "source": []
  },
  {
   "cell_type": "code",
   "execution_count": null,
   "id": "09760710",
   "metadata": {},
   "outputs": [],
   "source": []
  },
  {
   "cell_type": "code",
   "execution_count": null,
   "id": "fe74e661",
   "metadata": {},
   "outputs": [],
   "source": []
  },
  {
   "cell_type": "code",
   "execution_count": null,
   "id": "bc35cf1c",
   "metadata": {},
   "outputs": [],
   "source": []
  },
  {
   "cell_type": "code",
   "execution_count": null,
   "id": "c418af55",
   "metadata": {},
   "outputs": [],
   "source": []
  },
  {
   "cell_type": "code",
   "execution_count": null,
   "id": "bf04593e",
   "metadata": {},
   "outputs": [],
   "source": []
  }
 ],
 "metadata": {
  "kernelspec": {
   "display_name": "Python 3 (ipykernel)",
   "language": "python",
   "name": "python3"
  },
  "language_info": {
   "codemirror_mode": {
    "name": "ipython",
    "version": 3
   },
   "file_extension": ".py",
   "mimetype": "text/x-python",
   "name": "python",
   "nbconvert_exporter": "python",
   "pygments_lexer": "ipython3",
   "version": "3.9.13"
  }
 },
 "nbformat": 4,
 "nbformat_minor": 5
}
